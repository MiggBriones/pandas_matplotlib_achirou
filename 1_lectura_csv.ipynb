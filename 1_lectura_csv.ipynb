{
 "cells": [
  {
   "cell_type": "code",
   "execution_count": 2,
   "id": "16583c62",
   "metadata": {},
   "outputs": [],
   "source": [
    "import pandas as pd"
   ]
  },
  {
   "cell_type": "code",
   "execution_count": 3,
   "id": "f84e8735",
   "metadata": {},
   "outputs": [],
   "source": [
    "dataframe = pd.read_csv('recursos/dataframeutf8.csv')"
   ]
  },
  {
   "cell_type": "markdown",
   "id": "26a6543c",
   "metadata": {},
   "source": [
    "## Dataframes"
   ]
  },
  {
   "cell_type": "markdown",
   "id": "c7b74722",
   "metadata": {},
   "source": [
    "Un DataFrame es una serie de Series Pandas indexadas por un valor\n",
    "\n",
    "`Nota: Para trabajar con caracteres especiales del idioma Español, guardar los archivos con encodign utf-8. Se puede usar el notepad o cualquier editor de texto.`"
   ]
  },
  {
   "cell_type": "code",
   "execution_count": 4,
   "id": "fbd9da04",
   "metadata": {},
   "outputs": [
    {
     "data": {
      "text/html": [
       "<div>\n",
       "<style scoped>\n",
       "    .dataframe tbody tr th:only-of-type {\n",
       "        vertical-align: middle;\n",
       "    }\n",
       "\n",
       "    .dataframe tbody tr th {\n",
       "        vertical-align: top;\n",
       "    }\n",
       "\n",
       "    .dataframe thead th {\n",
       "        text-align: right;\n",
       "    }\n",
       "</style>\n",
       "<table border=\"1\" class=\"dataframe\">\n",
       "  <thead>\n",
       "    <tr style=\"text-align: right;\">\n",
       "      <th></th>\n",
       "      <th>Nombre y apellido</th>\n",
       "      <th>Edad</th>\n",
       "      <th>País</th>\n",
       "      <th>Automovil</th>\n",
       "    </tr>\n",
       "  </thead>\n",
       "  <tbody>\n",
       "    <tr>\n",
       "      <th>0</th>\n",
       "      <td>Juan</td>\n",
       "      <td>35</td>\n",
       "      <td>Mexico</td>\n",
       "      <td>No</td>\n",
       "    </tr>\n",
       "    <tr>\n",
       "      <th>1</th>\n",
       "      <td>Pedro</td>\n",
       "      <td>41</td>\n",
       "      <td>Honduras</td>\n",
       "      <td>Si</td>\n",
       "    </tr>\n",
       "    <tr>\n",
       "      <th>2</th>\n",
       "      <td>Maria</td>\n",
       "      <td>28</td>\n",
       "      <td>Peru</td>\n",
       "      <td>Si</td>\n",
       "    </tr>\n",
       "    <tr>\n",
       "      <th>3</th>\n",
       "      <td>Laura</td>\n",
       "      <td>66</td>\n",
       "      <td>Argentina</td>\n",
       "      <td>No</td>\n",
       "    </tr>\n",
       "  </tbody>\n",
       "</table>\n",
       "</div>"
      ],
      "text/plain": [
       "  Nombre y apellido  Edad       País Automovil\n",
       "0              Juan    35     Mexico        No\n",
       "1             Pedro    41   Honduras        Si\n",
       "2             Maria    28       Peru        Si\n",
       "3             Laura    66  Argentina        No"
      ]
     },
     "execution_count": 4,
     "metadata": {},
     "output_type": "execute_result"
    }
   ],
   "source": [
    "dataframe"
   ]
  },
  {
   "cell_type": "markdown",
   "id": "65147a68",
   "metadata": {},
   "source": [
    "## Series"
   ]
  },
  {
   "cell_type": "markdown",
   "id": "f22991d9",
   "metadata": {},
   "source": [
    "Un objeto \"Series\" es un vector con datos indexados"
   ]
  },
  {
   "cell_type": "code",
   "execution_count": 5,
   "id": "cc5c5b98",
   "metadata": {},
   "outputs": [
    {
     "data": {
      "text/plain": [
       "0     Juan\n",
       "1    Pedro\n",
       "2    Maria\n",
       "3    Laura\n",
       "Name: Nombre y apellido, dtype: object"
      ]
     },
     "execution_count": 5,
     "metadata": {},
     "output_type": "execute_result"
    }
   ],
   "source": [
    "dataframe['Nombre y apellido']"
   ]
  },
  {
   "cell_type": "code",
   "execution_count": 6,
   "id": "0372d7ae",
   "metadata": {},
   "outputs": [
    {
     "data": {
      "text/plain": [
       "0       Mexico\n",
       "1     Honduras\n",
       "2         Peru\n",
       "3    Argentina\n",
       "Name: País, dtype: object"
      ]
     },
     "execution_count": 6,
     "metadata": {},
     "output_type": "execute_result"
    }
   ],
   "source": [
    "dataframe.País"
   ]
  },
  {
   "cell_type": "code",
   "execution_count": 9,
   "id": "a1b9b4a0",
   "metadata": {},
   "outputs": [
    {
     "data": {
      "text/html": [
       "<div>\n",
       "<style scoped>\n",
       "    .dataframe tbody tr th:only-of-type {\n",
       "        vertical-align: middle;\n",
       "    }\n",
       "\n",
       "    .dataframe tbody tr th {\n",
       "        vertical-align: top;\n",
       "    }\n",
       "\n",
       "    .dataframe thead th {\n",
       "        text-align: right;\n",
       "    }\n",
       "</style>\n",
       "<table border=\"1\" class=\"dataframe\">\n",
       "  <thead>\n",
       "    <tr style=\"text-align: right;\">\n",
       "      <th></th>\n",
       "      <th>Edad</th>\n",
       "      <th>Automovil</th>\n",
       "    </tr>\n",
       "  </thead>\n",
       "  <tbody>\n",
       "    <tr>\n",
       "      <th>0</th>\n",
       "      <td>35</td>\n",
       "      <td>No</td>\n",
       "    </tr>\n",
       "    <tr>\n",
       "      <th>1</th>\n",
       "      <td>41</td>\n",
       "      <td>Si</td>\n",
       "    </tr>\n",
       "    <tr>\n",
       "      <th>2</th>\n",
       "      <td>28</td>\n",
       "      <td>Si</td>\n",
       "    </tr>\n",
       "    <tr>\n",
       "      <th>3</th>\n",
       "      <td>66</td>\n",
       "      <td>No</td>\n",
       "    </tr>\n",
       "  </tbody>\n",
       "</table>\n",
       "</div>"
      ],
      "text/plain": [
       "   Edad Automovil\n",
       "0    35        No\n",
       "1    41        Si\n",
       "2    28        Si\n",
       "3    66        No"
      ]
     },
     "execution_count": 9,
     "metadata": {},
     "output_type": "execute_result"
    }
   ],
   "source": [
    "dataframe[['Edad','Automovil']]"
   ]
  },
  {
   "cell_type": "markdown",
   "id": "c5cb30a5",
   "metadata": {},
   "source": [
    "### Conocer el tipo de dato"
   ]
  },
  {
   "cell_type": "markdown",
   "id": "f686e51a",
   "metadata": {},
   "source": [
    "Nota como para la Serie Edad, nos muestra\n",
    "\n",
    "`pandas.core.series.Series`\n",
    "\n",
    "Y para las series Edad y Automovil\n",
    "\n",
    "`pandas.core.frame.DataFrame`\n"
   ]
  },
  {
   "cell_type": "code",
   "execution_count": 10,
   "id": "02af5450",
   "metadata": {},
   "outputs": [
    {
     "data": {
      "text/plain": [
       "pandas.core.series.Series"
      ]
     },
     "execution_count": 10,
     "metadata": {},
     "output_type": "execute_result"
    }
   ],
   "source": [
    "type(dataframe.Edad)"
   ]
  },
  {
   "cell_type": "code",
   "execution_count": 11,
   "id": "88bed827",
   "metadata": {},
   "outputs": [
    {
     "data": {
      "text/plain": [
       "pandas.core.frame.DataFrame"
      ]
     },
     "execution_count": 11,
     "metadata": {},
     "output_type": "execute_result"
    }
   ],
   "source": [
    "type(dataframe[['Edad','Automovil']])"
   ]
  }
 ],
 "metadata": {
  "kernelspec": {
   "display_name": "Python 3 (ipykernel)",
   "language": "python",
   "name": "python3"
  },
  "language_info": {
   "codemirror_mode": {
    "name": "ipython",
    "version": 3
   },
   "file_extension": ".py",
   "mimetype": "text/x-python",
   "name": "python",
   "nbconvert_exporter": "python",
   "pygments_lexer": "ipython3",
   "version": "3.9.2"
  }
 },
 "nbformat": 4,
 "nbformat_minor": 5
}
